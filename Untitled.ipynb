{
 "cells": [
  {
   "cell_type": "markdown",
   "metadata": {},
   "source": [
    "$$x' = \\frac{x-vt}{\\sqrt{1 - (\\frac{v}{c})^{2}}}$$\n",
    "$$t' = \\frac{t-\\frac{v}{c^2}x}{\\sqrt{1 - (\\frac{v}{c})^{2}}}$$\n"
   ]
  },
  {
   "cell_type": "markdown",
   "metadata": {},
   "source": [
    "$$x'+ct' = \\frac{x-vt}{\\sqrt{1 - (\\frac{v}{c})^{2}}} + c\\frac{t-\\frac{v}{c^2}x}{\\sqrt{1 - (\\frac{v}{c})^{2}}} = \\frac{1}{\\sqrt{1 - (\\frac{v}{c})^2}}\\Big(x(1-\\frac{v}{c}) + t(c-v)\\Big) = \\frac{1}{\\sqrt{1 - (\\frac{v}{c})^2}}\\Big((x+ct)(1-\\frac{v}{c})\\Big) = (x+ct)\\frac{1-\\frac{v}{c}}{\\sqrt{1 - (\\frac{v}{c})^2}} $$\n"
   ]
  },
  {
   "cell_type": "code",
   "execution_count": 15,
   "metadata": {},
   "outputs": [],
   "source": [
    "import os"
   ]
  },
  {
   "cell_type": "code",
   "execution_count": null,
   "metadata": {},
   "outputs": [],
   "source": []
  },
  {
   "cell_type": "code",
   "execution_count": null,
   "metadata": {},
   "outputs": [],
   "source": []
  }
 ],
 "metadata": {
  "kernelspec": {
   "display_name": "Python 3",
   "language": "python",
   "name": "python3"
  },
  "language_info": {
   "codemirror_mode": {
    "name": "ipython",
    "version": 3
   },
   "file_extension": ".py",
   "mimetype": "text/x-python",
   "name": "python",
   "nbconvert_exporter": "python",
   "pygments_lexer": "ipython3",
   "version": "3.7.3"
  }
 },
 "nbformat": 4,
 "nbformat_minor": 2
}
